{
 "cells": [
  {
   "cell_type": "code",
   "execution_count": null,
   "metadata": {},
   "outputs": [],
   "source": [
    "import pandas as pd\n",
    "df = pd.read_excel(\"ExampleSTR.xlsx\")\n",
    "df = df.applymap(lambda x: x.strip() if type(x)==str else x)\n",
    "\n",
    "df.columns = df.columns.str.strip()\n",
    "\n",
    "# Collapse allele columns for each marker into a single column.\n",
    "df['Alleles'] = df.filter(like='Allele').apply(lambda x: ','.join([str(y) for y in x]), axis=1).str.strip(\",\")\n",
    "\n",
    "# Group and collect dict from each sample for markers and alleles.\n",
    "grouped = df.groupby(\"Sample Name\")\n",
    "\n",
    "samps_dicts = []\n",
    "\n",
    "for samp in grouped.groups.keys():\n",
    "    samp_df = grouped.get_group(samp)\n",
    "    samps_dict = samp_df.set_index(\"Marker\").to_dict()[\"Alleles\"]\n",
    "    samps_dict[\"Sample\"] = samp\n",
    "    \n",
    "    samps_dicts.append(samps_dict)\n",
    "\n",
    "allele_df = pd.DataFrame(samps_dicts)\n",
    "\n",
    "copy_df = allele_df.copy()\n",
    "\n",
    "pd.concat([allele_df, copy_df], ignore_index=True)"
   ]
  }
 ],
 "metadata": {
  "kernelspec": {
   "display_name": "Python 3.10.4 ('py3')",
   "language": "python",
   "name": "python3"
  },
  "language_info": {
   "codemirror_mode": {
    "name": "ipython",
    "version": 3
   },
   "file_extension": ".py",
   "mimetype": "text/x-python",
   "name": "python",
   "nbconvert_exporter": "python",
   "pygments_lexer": "ipython3",
   "version": "3.10.4"
  },
  "orig_nbformat": 4,
  "vscode": {
   "interpreter": {
    "hash": "a8a6a806453738a6349acd35cf8220a2a2d41a9d3d229c0f15ac4e1e4327428a"
   }
  }
 },
 "nbformat": 4,
 "nbformat_minor": 2
}
